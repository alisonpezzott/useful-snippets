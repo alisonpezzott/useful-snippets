{
 "cells": [
  {
   "cell_type": "code",
   "execution_count": null,
   "id": "fc127fb3-6d2f-4483-b17d-b61f413945ae",
   "metadata": {
    "microsoft": {
     "language": "python",
     "language_group": "synapse_pyspark"
    }
   },
   "outputs": [],
   "source": [
    "# Step 0: Configure Spark to treat table and column names as case-sensitive\n",
    "spark.conf.set('spark.sql.caseSensitive', True)\n",
    "\n",
    "# Step 1: Define SharePoint site and list details\n",
    "TENANT_HOST = \"overdax.sharepoint.com\"  # SharePoint Host\n",
    "SITE_PATH   = \"Sandbox\"                 # Site Path\n",
    "LIST_TITLE  = \"ListTest\"                # List Name\n",
    "TARGET_TABLE = \"ListTest\"               # Delta Table in Lakehouse"
   ]
  },
  {
   "cell_type": "code",
   "execution_count": null,
   "id": "9a5b275d-8e2e-4301-927d-8f43cf6dec5b",
   "metadata": {
    "microsoft": {
     "language": "python",
     "language_group": "synapse_pyspark"
    }
   },
   "outputs": [],
   "source": [
    "# Step 2: Retrieve secrets from Azure Key Vault\n",
    "KEY_VAULT     = \"https://pezzott.vault.azure.net/\"\n",
    "CLIENT_ID     = notebookutils.credentials.getSecret(KEY_VAULT, \"graph-client-id\")\n",
    "TENANT_ID     = notebookutils.credentials.getSecret(KEY_VAULT, \"graph-tenant-id\")\n",
    "CLIENT_SECRET = notebookutils.credentials.getSecret(KEY_VAULT, \"graph-secret\")"
   ]
  },
  {
   "cell_type": "code",
   "execution_count": null,
   "id": "79fa2911-9502-4174-b38e-0158e968a3bc",
   "metadata": {
    "microsoft": {
     "language": "python",
     "language_group": "synapse_pyspark"
    }
   },
   "outputs": [],
   "source": [
    "# Step 3: Acquire access token for Microsoft Graph API\n",
    "import requests\n",
    "\n",
    "token_url = f\"https://login.microsoftonline.com/{TENANT_ID}/oauth2/v2.0/token\"\n",
    "token_resp = requests.post(\n",
    "    token_url,\n",
    "    data={\n",
    "        \"client_id\": CLIENT_ID,\n",
    "        \"client_secret\": CLIENT_SECRET,\n",
    "        \"grant_type\": \"client_credentials\",\n",
    "        \"scope\": \"https://graph.microsoft.com/.default\",  # Graph app perms\n",
    "    },\n",
    ")\n",
    "token_resp.raise_for_status()\n",
    "access_token = token_resp.json()[\"access_token\"]\n",
    "headers = {\"Authorization\": f\"Bearer {access_token}\", \"Accept\": \"application/json\"}"
   ]
  },
  {
   "cell_type": "code",
   "execution_count": null,
   "id": "5b6bfa78-ad36-4237-8e81-cbd28a204349",
   "metadata": {
    "microsoft": {
     "language": "python",
     "language_group": "synapse_pyspark"
    }
   },
   "outputs": [],
   "source": [
    "# Step 4: Locate siteId and listId\n",
    "\n",
    "site = requests.get(\n",
    "    f\"https://graph.microsoft.com/v1.0/sites/{TENANT_HOST}:{SITE_PATH}\",\n",
    "    headers=headers\n",
    ").json()\n",
    "site_id = site[\"id\"]\n",
    "\n",
    "lists = requests.get(\n",
    "    f\"https://graph.microsoft.com/v1.0/sites/{site_id}/lists?$select=id,name,displayName\",\n",
    "    headers=headers\n",
    ").json()\n",
    "list_id = next(l[\"id\"] for l in lists.get(\"value\", []) if l[\"displayName\"] == LIST_TITLE)"
   ]
  },
  {
   "cell_type": "code",
   "execution_count": null,
   "id": "54704b65-ad6c-48f1-b989-7b04ca03f4f7",
   "metadata": {
    "microsoft": {
     "language": "python",
     "language_group": "synapse_pyspark"
    }
   },
   "outputs": [],
   "source": [
    "# Step 5. Read all items with pagination\n",
    "base = f\"https://graph.microsoft.com/v1.0/sites/{site_id}/lists/{list_id}/items\"\n",
    "params = {\n",
    "    \"$expand\": \"fields\",\n",
    "    \"$top\": \"200\"\n",
    "}\n",
    "\n",
    "items = []\n",
    "next_url = base\n",
    "while next_url:\n",
    "    r = requests.get(next_url, headers=headers, params=params if next_url == base else None).json()\n",
    "    items.extend(r.get(\"value\", []))\n",
    "    next_url = r.get(\"@odata.nextLink\")"
   ]
  },
  {
   "cell_type": "code",
   "execution_count": null,
   "id": "9ba492e3-bd3d-4d8e-b356-28b06045302c",
   "metadata": {
    "collapsed": false,
    "microsoft": {
     "language": "python",
     "language_group": "synapse_pyspark"
    }
   },
   "outputs": [],
   "source": [
    "# Step 6: Normalize records and save to Delta\n",
    "records = []\n",
    "for it in items:\n",
    "    row = it.get(\"fields\", {}).copy()\n",
    "    records.append(row)\n",
    "\n",
    "if not records:\n",
    "    print(\"Nenhum item retornardo.\")\n",
    "else:    \n",
    "    # Create DataFrame\n",
    "    df = spark.createDataFrame(records)       \n",
    "\n",
    "    # Exclude unnecessary columns\n",
    "    cols_to_drop = [\"@odata.etag\", \"id\", \"ContentType\", \"Modified\", \"Created\", \n",
    "                    \"AuthorLookupId\", \"EditorLookupId\", \"_UIVersionString\", \"Attachments\",\n",
    "                    \"Edit\", \"ItemChildCount\", \"FolderChildCount\", \"_ComplianceFlags\",\n",
    "                    \"_ComplianceTag\", \"_ComplianceTagWrittenTime\", \"_ComplianceTagUserId\"]     \n",
    "    df_selected = df.drop(*cols_to_drop)\n",
    "\n",
    "    # Save to Delta table\n",
    "    (df_selected.write.mode(\"append\")     \n",
    "          .format(\"delta\")  \n",
    "          .saveAsTable(TARGET_TABLE))\n",
    "    \n",
    "    display(spark.table(TARGET_TABLE).limit(10))"
   ]
  }
 ],
 "metadata": {
  "dependencies": {
   "lakehouse": {
    "default_lakehouse": "012ff4ce-d64f-484b-a041-9b9fe20c98fc",
    "default_lakehouse_name": "LK_SharePoint",
    "default_lakehouse_workspace_id": "0d4a2f53-8c7b-42b0-8500-da59d8da80df",
    "known_lakehouses": [
     {
      "id": "012ff4ce-d64f-484b-a041-9b9fe20c98fc"
     }
    ]
   }
  },
  "kernel_info": {
   "name": "synapse_pyspark"
  },
  "kernelspec": {
   "display_name": "synapse_pyspark",
   "name": "synapse_pyspark"
  },
  "language_info": {
   "name": "python"
  },
  "microsoft": {
   "language": "python",
   "language_group": "synapse_pyspark",
   "ms_spell_check": {
    "ms_spell_check_language": "en"
   }
  },
  "nteract": {
   "version": "nteract-front-end@1.0.0"
  },
  "spark_compute": {
   "compute_id": "/trident/default",
   "session_options": {
    "conf": {
     "spark.synapse.nbs.session.timeout": "1200000"
    }
   }
  },
  "synapse_widget": {
   "state": {},
   "version": "0.1"
  }
 },
 "nbformat": 4,
 "nbformat_minor": 5
}
