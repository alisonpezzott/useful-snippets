{
 "cells": [
  {
   "cell_type": "code",
   "execution_count": null,
   "metadata": {
    "vscode": {
     "languageId": "plaintext"
    }
   },
   "outputs": [],
   "source": [
    "from notebookutils import mssparkutils\n",
    "from pyspark.sql.types import *\n",
    "from pyspark.sql.functions import *"
   ]
  },
  {
   "cell_type": "code",
   "execution_count": null,
   "metadata": {
    "vscode": {
     "languageId": "plaintext"
    }
   },
   "outputs": [],
   "source": [
    "# Create a folder\n",
    "inputPath = 'Files/data/'\n",
    "mssparkutils.fs.mkdirs(inputPath)"
   ]
  },
  {
   "cell_type": "code",
   "execution_count": null,
   "metadata": {
    "vscode": {
     "languageId": "plaintext"
    }
   },
   "outputs": [],
   "source": [
    "# Create a stream that reads data from the folder, using a JSON schema\n",
    "jsonSchema = StructType([\n",
    "    StructField(\"device\", StringType(), False),\n",
    "    StructField(\"status\", StringType(), False)\n",
    "])\n",
    "\n",
    "iotstream = spark.readStream.schema(jsonSchema).option(\"maxFilesPerTrigger\", 1).json(inputPath)"
   ]
  },
  {
   "cell_type": "code",
   "execution_count": null,
   "metadata": {
    "vscode": {
     "languageId": "plaintext"
    }
   },
   "outputs": [],
   "source": [
    "# Write some event data to the folder\n",
    "device_data = '''\n",
    "    {\"device\":\"Dev1\",\"status\":\"ok\"}\n",
    "    {\"device\":\"Dev1\",\"status\":\"ok\"}\n",
    "    {\"device\":\"Dev1\",\"status\":\"ok\"}\n",
    "    {\"device\":\"Dev2\",\"status\":\"error\"}\n",
    "    {\"device\":\"Dev1\",\"status\":\"ok\"}\n",
    "    {\"device\":\"Dev1\",\"status\":\"error\"}\n",
    "    {\"device\":\"Dev2\",\"status\":\"ok\"}\n",
    "    {\"device\":\"Dev2\",\"status\":\"error\"}\n",
    "    {\"device\":\"Dev1\",\"status\":\"ok\"}\n",
    "'''\n",
    "\n",
    "mssparkutils.fs.put(inputPath + \"data.txt\", device_data, True)\n",
    "\n",
    "print(\"Source stream created...\")"
   ]
  },
  {
   "cell_type": "code",
   "execution_count": null,
   "metadata": {
    "vscode": {
     "languageId": "plaintext"
    }
   },
   "outputs": [],
   "source": [
    " # Add more data to the source stream\n",
    " more_data = '''\n",
    "    {\"device\":\"Dev1\",\"status\":\"ok\"}\n",
    "    {\"device\":\"Dev1\",\"status\":\"ok\"}\n",
    "    {\"device\":\"Dev1\",\"status\":\"ok\"}\n",
    "    {\"device\":\"Dev1\",\"status\":\"ok\"}\n",
    "    {\"device\":\"Dev1\",\"status\":\"error\"}\n",
    "    {\"device\":\"Dev2\",\"status\":\"error\"}\n",
    "    {\"device\":\"Dev1\",\"status\":\"ok\"}\n",
    "'''\n",
    "\n",
    "mssparkutils.fs.put(inputPath + \"more-data.txt\", more_data, True)\n",
    "\n",
    "print(\"More data added...\")\n",
    "\n",
    "deltastream.stop()"
   ]
  }
 ],
 "metadata": {
  "language_info": {
   "name": "python"
  }
 },
 "nbformat": 4,
 "nbformat_minor": 2
}
